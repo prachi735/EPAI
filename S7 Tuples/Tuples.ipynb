{
 "cells": [
  {
   "cell_type": "code",
   "execution_count": 1,
   "metadata": {},
   "outputs": [],
   "source": [
    "%config IPCompleter.greedy=True"
   ]
  },
  {
   "cell_type": "code",
   "execution_count": 1,
   "metadata": {},
   "outputs": [],
   "source": [
    "import collections\n",
    "from datetime import date\n",
    "from dateutil.relativedelta import *\n",
    "from faker import Faker\n",
    "from collections import namedtuple, Counter\n",
    "from time import perf_counter\n",
    "from functools import wraps\n",
    "from random import shuffle, seed, randint, uniform, choice, sample\n",
    "from faker.providers.company import Provider"
   ]
  },
  {
   "cell_type": "code",
   "execution_count": 3,
   "metadata": {},
   "outputs": [],
   "source": [
    "Faker.seed(1)\n",
    "fake = Faker()"
   ]
  },
  {
   "cell_type": "code",
   "execution_count": 2,
   "metadata": {},
   "outputs": [],
   "source": [
    "def get_fake_profiles(type, count):\n",
    "    fake_profiles = []\n",
    "    if type == 'namedtuple':\n",
    "        profile = namedtuple('Profile', ['job', 'company', 'ssn', 'residence', 'current_location',\n",
    "                                         'blood_group', 'website', 'username', 'name', 'sex', 'address', 'mail', 'birthdate'])\n",
    "        for _ in range(count):\n",
    "            fake_profiles.append(profile(**fake.profile()))\n",
    "    elif type == 'dict':\n",
    "        for _ in range(count):\n",
    "            fake_profiles.append(fake.profile())\n",
    "    return fake_profiles\n",
    "\n",
    "\n",
    "def get_largest_blood_group(collection, type):\n",
    "    bg_counts = None\n",
    "    if type == 'namedtuple':\n",
    "        bg_counts = Counter(p.blood_group for p in collection)\n",
    "    elif type == 'dict':\n",
    "        bg_counts = Counter(p['blood_group'] for p in collection)\n",
    "    return bg_counts.most_common()[0]\n",
    "\n",
    "\n",
    "def get_oldest_birthdate(collection, type):\n",
    "    oldest_birthdate = None\n",
    "    if type == 'namedtuple':\n",
    "        oldest_birthdate = min(\n",
    "            collection, key=lambda a: a.birthdate).birthdate\n",
    "    elif type == 'dict':\n",
    "        oldest_birthdate = min(\n",
    "            collection, key=lambda a: a['birthdate'])['birthdate']\n",
    "    return oldest_birthdate\n",
    "\n",
    "\n",
    "def get_average_age(collection, type):\n",
    "    if type == 'namedtuple':\n",
    "        return sum([relativedelta(date.today(), a.birthdate).years for a in collection])/len(collection)\n",
    "    elif type == 'dict':\n",
    "        return sum([relativedelta(date.today(), a['birthdate']).years for a in collection])/len(collection)"
   ]
  },
  {
   "cell_type": "code",
   "execution_count": 4,
   "metadata": {},
   "outputs": [],
   "source": [
    "NO_OF_PROFILES = 10000\n",
    "fake_profiles = get_fake_profiles('namedtuple', NO_OF_PROFILES)\n",
    "fake_profiles_dict = get_fake_profiles('dict', NO_OF_PROFILES)"
   ]
  },
  {
   "cell_type": "code",
   "execution_count": 5,
   "metadata": {},
   "outputs": [
    {
     "output_type": "stream",
     "name": "stdout",
     "text": [
      "testing: get_largest_blood_group\n",
      "dict is faster\n",
      "testing: get_oldest_birthdate\n",
      "dict is faster\n",
      "testing: get_average_age\n",
      "named tuple is faster\n"
     ]
    }
   ],
   "source": [
    "def get_average_time(n, func, *args, **kwargs):\n",
    "    start = perf_counter()\n",
    "    for _ in range(n):\n",
    "        value = func(*args, **kwargs)\n",
    "    avg_run_time = (perf_counter() - start)/n\n",
    "    return avg_run_time\n",
    "\n",
    "\n",
    "N = 1000\n",
    "for f in [get_largest_blood_group, get_oldest_birthdate, get_average_age]:\n",
    "    print('testing:', f.__name__)\n",
    "    t1 = get_average_time(N, f, fake_profiles, 'namedtuple')\n",
    "    t2 = get_average_time(N, f, fake_profiles_dict, 'dict')\n",
    "\n",
    "    if t1 < t2:\n",
    "        print('dict is faster')\n",
    "    else:\n",
    "        print('named tuple is faster')"
   ]
  },
  {
   "cell_type": "code",
   "execution_count": 6,
   "metadata": {},
   "outputs": [],
   "source": [
    "company_stck = namedtuple('Company', ['name', 'symbol', 'open', 'high', 'low', 'close','weight'])"
   ]
  },
  {
   "cell_type": "code",
   "execution_count": 7,
   "metadata": {},
   "outputs": [],
   "source": [
    "def get_company_stock(volatility,direction):              \n",
    "    name = fake.unique.company()\n",
    "    symbol = name[0:3].upper()+name[-3:].upper()\n",
    "    open = round( uniform(10,1000),2)\n",
    "    if direction == '-ve':\n",
    "        volatility *= -1\n",
    "    close =  round(open + (open * volatility * 0.2),2)\n",
    "    high = close = round(open + (open * volatility * 0.5),2)\n",
    "    low = close = round(open - (open * volatility * 0.5),2)\n",
    "    return name, symbol, open, high,low, close"
   ]
  },
  {
   "cell_type": "code",
   "execution_count": 10,
   "metadata": {},
   "outputs": [],
   "source": [
    "weights = sample(range(1,200),100)"
   ]
  },
  {
   "cell_type": "code",
   "execution_count": 11,
   "metadata": {},
   "outputs": [],
   "source": [
    "stock_list = [company_stck(*get_company_stock(volatility = uniform(.02, .2),direction=choice(['+ve','-ve'])),w) for w in weights]\n"
   ]
  },
  {
   "cell_type": "code",
   "execution_count": 12,
   "metadata": {},
   "outputs": [
    {
     "output_type": "execute_result",
     "data": {
      "text/plain": [
       "[Company(name='Weaver Ltd', symbol='WEALTD', open=466.68, high=450.03, low=483.33, close=483.33, weight=50),\n",
       " Company(name='James, Graves and Phillips', symbol='JAMIPS', open=863.24, high=813.11, low=913.37, close=913.37, weight=90),\n",
       " Company(name='Johnson Group', symbol='JOHOUP', open=539.46, high=585.04, low=493.88, close=493.88, weight=128),\n",
       " Company(name='Carter Group', symbol='CAROUP', open=620.53, high=578.37, low=662.69, close=662.69, weight=105),\n",
       " Company(name='Lang Inc', symbol='LANINC', open=545.83, high=512.6, low=579.06, close=579.06, weight=130),\n",
       " Company(name='Price-Howard', symbol='PRIARD', open=663.04, high=696.39, low=629.69, close=629.69, weight=176),\n",
       " Company(name='Gomez Inc', symbol='GOMINC', open=934.91, high=879.03, low=990.79, close=990.79, weight=27),\n",
       " Company(name='Walsh, Anderson and Hill', symbol='WALILL', open=466.62, high=459.87, low=473.37, close=473.37, weight=20),\n",
       " Company(name='Miller Group', symbol='MILOUP', open=436.44, high=466.89, low=405.99, close=405.99, weight=98),\n",
       " Company(name='Hayes, Hanson and Underwood', symbol='HAYOOD', open=485.57, high=458.88, low=512.26, close=512.26, weight=6),\n",
       " Company(name='Smith, Gomez and Moore', symbol='SMIORE', open=437.8, high=401.22, low=474.38, close=474.38, weight=158),\n",
       " Company(name='Cruz PLC', symbol='CRUPLC', open=557.99, high=538.7, low=577.28, close=577.28, weight=188),\n",
       " Company(name='Stark Ltd', symbol='STALTD', open=792.82, high=809.26, low=776.38, close=776.38, weight=117),\n",
       " Company(name='Hess-Webb', symbol='HESEBB', open=915.76, high=954.82, low=876.7, close=876.7, weight=133),\n",
       " Company(name='Morrison, Frank and Lee', symbol='MORLEE', open=854.91, high=891.7, low=818.12, close=818.12, weight=31),\n",
       " Company(name='Rodriguez Group', symbol='RODOUP', open=62.48, high=65.82, low=59.14, close=59.14, weight=174),\n",
       " Company(name='Flores and Sons', symbol='FLOONS', open=173.63, high=168.76, low=178.5, close=178.5, weight=99),\n",
       " Company(name='Harmon Group', symbol='HAROUP', open=212.7, high=194.81, low=230.59, close=230.59, weight=162),\n",
       " Company(name='Hoover Ltd', symbol='HOOLTD', open=773.86, high=751.86, low=795.86, close=795.86, weight=65),\n",
       " Company(name='Li PLC', symbol='LI PLC', open=322.07, high=326.59, low=317.55, close=317.55, weight=194),\n",
       " Company(name='Clark-Smith', symbol='CLAITH', open=723.32, high=703.01, low=743.63, close=743.63, weight=182),\n",
       " Company(name='Ramirez-Reeves', symbol='RAMVES', open=970.56, high=873.69, low=1067.43, close=1067.43, weight=153),\n",
       " Company(name='Wilson Group', symbol='WILOUP', open=278.08, high=267.37, low=288.79, close=288.79, weight=43),\n",
       " Company(name='Gentry-Mack', symbol='GENACK', open=343.24, high=310.52, low=375.96, close=375.96, weight=7),\n",
       " Company(name='Moore-Tyler', symbol='MOOLER', open=324.56, high=299.02, low=350.1, close=350.1, weight=17),\n",
       " Company(name='Aguilar, Smith and Alexander', symbol='AGUDER', open=660.44, high=684.79, low=636.09, close=636.09, weight=74),\n",
       " Company(name='Wilson, Ellison and Clayton', symbol='WILTON', open=210.54, high=221.8, low=199.28, close=199.28, weight=78),\n",
       " Company(name='Santiago-Castaneda', symbol='SANEDA', open=495.8, high=528.79, low=462.81, close=462.81, weight=33),\n",
       " Company(name='Patel, Wright and Medina', symbol='PATINA', open=946.39, high=1000.84, low=891.94, close=891.94, weight=62),\n",
       " Company(name='Rojas-Barnett', symbol='ROJETT', open=570.04, high=514.75, low=625.33, close=625.33, weight=35),\n",
       " Company(name='Jackson LLC', symbol='JACLLC', open=226.62, high=205.41, low=247.83, close=247.83, weight=87),\n",
       " Company(name='Whitehead Group', symbol='WHIOUP', open=365.77, high=396.45, low=335.09, close=335.09, weight=159),\n",
       " Company(name='Phillips LLC', symbol='PHILLC', open=890.8, high=809.1, low=972.5, close=972.5, weight=100),\n",
       " Company(name='Campbell-Garcia', symbol='CAMCIA', open=313.13, high=319.67, low=306.59, close=306.59, weight=16),\n",
       " Company(name='Summers Ltd', symbol='SUMLTD', open=265.51, high=287.46, low=243.56, close=243.56, weight=19),\n",
       " Company(name='Garcia, Blanchard and Meyer', symbol='GARYER', open=246.02, high=240.55, low=251.49, close=251.49, weight=131),\n",
       " Company(name='Davis-Bailey', symbol='DAVLEY', open=41.77, high=37.76, low=45.78, close=45.78, weight=124),\n",
       " Company(name='Potter-Cannon', symbol='POTNON', open=12.41, high=13.19, low=11.63, close=11.63, weight=197),\n",
       " Company(name='Ward and Sons', symbol='WARONS', open=599.68, high=638.31, low=561.05, close=561.05, weight=92),\n",
       " Company(name='Gaines, Clark and Dunn', symbol='GAIUNN', open=935.54, high=979.31, low=891.77, close=891.77, weight=93),\n",
       " Company(name='Martinez, Cannon and Conrad', symbol='MARRAD', open=651.14, high=618.05, low=684.23, close=684.23, weight=195),\n",
       " Company(name='Martinez, Skinner and Miles', symbol='MARLES', open=399.36, high=383.29, low=415.43, close=415.43, weight=139),\n",
       " Company(name='Chavez-Lopez', symbol='CHAPEZ', open=110.49, high=101.86, low=119.12, close=119.12, weight=12),\n",
       " Company(name='Taylor-Nash', symbol='TAYASH', open=810.0, high=785.73, low=834.27, close=834.27, weight=52),\n",
       " Company(name='Oneal and Sons', symbol='ONEONS', open=38.15, high=40.81, low=35.49, close=35.49, weight=103),\n",
       " Company(name='Ramirez-Wilson', symbol='RAMSON', open=858.3, high=876.27, low=840.33, close=840.33, weight=47),\n",
       " Company(name='Davis LLC', symbol='DAVLLC', open=282.62, high=307.86, low=257.38, close=257.38, weight=63),\n",
       " Company(name='Martin, Gardner and Garcia', symbol='MARCIA', open=25.03, high=23.46, low=26.6, close=26.6, weight=170),\n",
       " Company(name='Sandoval-Evans', symbol='SANANS', open=804.56, high=882.97, low=726.15, close=726.15, weight=69),\n",
       " Company(name='King PLC', symbol='KINPLC', open=700.45, high=725.28, low=675.62, close=675.62, weight=79),\n",
       " Company(name='Callahan LLC', symbol='CALLLC', open=524.45, high=546.11, low=502.79, close=502.79, weight=14),\n",
       " Company(name='Boyd, Rivera and Nicholson', symbol='BOYSON', open=908.52, high=849.98, low=967.06, close=967.06, weight=29),\n",
       " Company(name='Turner-Burke', symbol='TURRKE', open=141.72, high=135.03, low=148.41, close=148.41, weight=115),\n",
       " Company(name='Hughes, Jones and Peterson', symbol='HUGSON', open=355.69, high=321.7, low=389.68, close=389.68, weight=82),\n",
       " Company(name='Walters-Perkins', symbol='WALINS', open=695.5, high=705.69, low=685.31, close=685.31, weight=21),\n",
       " Company(name='Fox Inc', symbol='FOXINC', open=441.86, high=435.32, low=448.4, close=448.4, weight=97),\n",
       " Company(name='Atkinson, Orozco and Martin', symbol='ATKTIN', open=571.25, high=519.29, low=623.21, close=623.21, weight=107),\n",
       " Company(name='Hays-Johnson', symbol='HAYSON', open=625.16, high=569.29, low=681.03, close=681.03, weight=112),\n",
       " Company(name='Yates-Kirby', symbol='YATRBY', open=169.65, high=183.91, low=155.39, close=155.39, weight=113),\n",
       " Company(name='Parks-Harris', symbol='PARRIS', open=974.65, high=928.66, low=1020.64, close=1020.64, weight=118),\n",
       " Company(name='Rogers-Edwards', symbol='ROGRDS', open=353.1, high=327.91, low=378.29, close=378.29, weight=119),\n",
       " Company(name='Griffin Ltd', symbol='GRILTD', open=595.03, high=609.99, low=580.07, close=580.07, weight=2),\n",
       " Company(name='Malone, Perez and Becker', symbol='MALKER', open=584.36, high=608.45, low=560.27, close=560.27, weight=68),\n",
       " Company(name='Davis Inc', symbol='DAVINC', open=427.55, high=468.37, low=386.73, close=386.73, weight=94),\n",
       " Company(name='Johnson LLC', symbol='JOHLLC', open=71.67, high=78.15, low=65.19, close=65.19, weight=60),\n",
       " Company(name='Price-Warner', symbol='PRINER', open=897.1, high=879.39, low=914.81, close=914.81, weight=54),\n",
       " Company(name='Wilkinson, Young and Beltran', symbol='WILRAN', open=883.99, high=940.1, low=827.88, close=827.88, weight=88),\n",
       " Company(name='Marshall, Dalton and Allen', symbol='MARLEN', open=305.69, high=275.74, low=335.64, close=335.64, weight=171),\n",
       " Company(name='Liu Group', symbol='LIUOUP', open=253.21, high=249.32, low=257.1, close=257.1, weight=199),\n",
       " Company(name='Lynn-Roberson', symbol='LYNSON', open=514.75, high=530.89, low=498.61, close=498.61, weight=169),\n",
       " Company(name='Jacobson, Walker and Hardy', symbol='JACRDY', open=634.52, high=582.73, low=686.31, close=686.31, weight=106),\n",
       " Company(name='Roberts, Duarte and Silva', symbol='ROBLVA', open=828.44, high=810.88, low=846.0, close=846.0, weight=187),\n",
       " Company(name='Lambert, Villegas and Williams', symbol='LAMAMS', open=550.48, high=539.66, low=561.3, close=561.3, weight=38),\n",
       " Company(name='Knox Inc', symbol='KNOINC', open=934.05, high=952.97, low=915.13, close=915.13, weight=151),\n",
       " Company(name='Diaz-Brown', symbol='DIAOWN', open=628.03, high=687.6, low=568.46, close=568.46, weight=185),\n",
       " Company(name='Barnes LLC', symbol='BARLLC', open=602.77, high=630.61, low=574.93, close=574.93, weight=175),\n",
       " Company(name='Frost, May and Cummings', symbol='FRONGS', open=566.12, high=553.05, low=579.19, close=579.19, weight=157),\n",
       " Company(name='Black-Gardner', symbol='BLANER', open=714.91, high=655.22, low=774.6, close=774.6, weight=70),\n",
       " Company(name='Mitchell, Wright and Bernard', symbol='MITARD', open=781.9, high=735.08, low=828.72, close=828.72, weight=89),\n",
       " Company(name='Moore Ltd', symbol='MOOLTD', open=802.65, high=815.55, low=789.75, close=789.75, weight=111),\n",
       " Company(name='Gonzalez, Rodriguez and Bennett', symbol='GONETT', open=658.39, high=606.99, low=709.79, close=709.79, weight=67),\n",
       " Company(name='Miles, Bowen and Ortega', symbol='MILEGA', open=922.55, high=1006.81, low=838.29, close=838.29, weight=141),\n",
       " Company(name='Barber, Russo and Foster', symbol='BARTER', open=387.02, high=421.67, low=352.37, close=352.37, weight=198),\n",
       " Company(name='Cook, Ferrell and Eaton', symbol='COOTON', open=754.88, high=801.81, low=707.95, close=707.95, weight=189),\n",
       " Company(name='Sanders-Parker', symbol='SANKER', open=734.41, high=702.89, low=765.93, close=765.93, weight=168),\n",
       " Company(name='Welch and Sons', symbol='WELONS', open=330.78, high=323.39, low=338.17, close=338.17, weight=109),\n",
       " Company(name='Silva Inc', symbol='SILINC', open=140.95, high=132.13, low=149.77, close=149.77, weight=140),\n",
       " Company(name='Kline, Ford and Oneill', symbol='KLIILL', open=250.21, high=244.99, low=255.43, close=255.43, weight=61),\n",
       " Company(name='West-Randolph', symbol='WESLPH', open=258.61, high=250.95, low=266.27, close=266.27, weight=81),\n",
       " Company(name='Pruitt-Schmidt', symbol='PRUIDT', open=414.6, high=393.71, low=435.49, close=435.49, weight=96),\n",
       " Company(name='Fuller-Smith', symbol='FULITH', open=54.28, high=55.03, low=53.53, close=53.53, weight=196),\n",
       " Company(name='Carney Ltd', symbol='CARLTD', open=181.78, high=172.86, low=190.7, close=190.7, weight=142),\n",
       " Company(name='Rose and Sons', symbol='ROSONS', open=183.12, high=179.72, low=186.52, close=186.52, weight=28),\n",
       " Company(name='Conley, Hernandez and Sanchez', symbol='CONHEZ', open=317.88, high=349.3, low=286.46, close=286.46, weight=179),\n",
       " Company(name='Anderson Ltd', symbol='ANDLTD', open=248.46, high=250.96, low=245.96, close=245.96, weight=76),\n",
       " Company(name='Blake-Wilson', symbol='BLASON', open=512.97, high=506.61, low=519.33, close=519.33, weight=135),\n",
       " Company(name='Wells-Peterson', symbol='WELSON', open=174.46, high=167.54, low=181.38, close=181.38, weight=152),\n",
       " Company(name='King, Davis and Johnson', symbol='KINSON', open=72.29, high=77.52, low=67.06, close=67.06, weight=9),\n",
       " Company(name='Johnson, Brown and Dennis', symbol='JOHNIS', open=472.59, high=502.63, low=442.55, close=442.55, weight=1),\n",
       " Company(name='Patton, Fisher and Walters', symbol='PATERS', open=16.31, high=16.7, low=15.92, close=15.92, weight=116)]"
      ]
     },
     "metadata": {},
     "execution_count": 12
    }
   ],
   "source": [
    "stock_list"
   ]
  },
  {
   "cell_type": "code",
   "execution_count": 13,
   "metadata": {},
   "outputs": [],
   "source": [
    "stock_list.sort(key = lambda a: a.weight)"
   ]
  },
  {
   "cell_type": "code",
   "execution_count": 14,
   "metadata": {},
   "outputs": [],
   "source": [
    "stock_market_open = sum([a.open for a in stock_list[:50]])\n",
    "stock_market_high = sum([a.high for a in stock_list[:50]])\n",
    "stock_market_close = sum([a.close for a in stock_list[:50]])"
   ]
  },
  {
   "cell_type": "code",
   "execution_count": 15,
   "metadata": {},
   "outputs": [
    {
     "output_type": "stream",
     "name": "stdout",
     "text": [
      "stock market opened at: 26183.13\nstock market highest value was: 26158.820000000003\nstock market closed at: 26207.440000000006\n"
     ]
    }
   ],
   "source": [
    "print('stock market opened at:',stock_market_open)\n",
    "print('stock market highest value was:',stock_market_high)\n",
    "print('stock market closed at:',stock_market_close)"
   ]
  },
  {
   "cell_type": "code",
   "execution_count": null,
   "metadata": {},
   "outputs": [],
   "source": []
  }
 ],
 "metadata": {
  "kernelspec": {
   "display_name": "Python 3",
   "language": "python",
   "name": "python3"
  },
  "language_info": {
   "codemirror_mode": {
    "name": "ipython",
    "version": 3
   },
   "file_extension": ".py",
   "mimetype": "text/x-python",
   "name": "python",
   "nbconvert_exporter": "python",
   "pygments_lexer": "ipython3",
   "version": "3.8.5-final"
  }
 },
 "nbformat": 4,
 "nbformat_minor": 4
}