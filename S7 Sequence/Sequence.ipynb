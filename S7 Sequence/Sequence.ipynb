{
 "cells": [
  {
   "cell_type": "code",
   "execution_count": 1,
   "metadata": {},
   "outputs": [],
   "source": [
    "from polygon import *\n",
    "from polygon_sequence import *"
   ]
  },
  {
   "cell_type": "markdown",
   "metadata": {},
   "source": [
    "## Polygon"
   ]
  },
  {
   "cell_type": "code",
   "execution_count": 2,
   "metadata": {},
   "outputs": [],
   "source": [
    "mypoly = Polygon(10, 16)"
   ]
  },
  {
   "cell_type": "code",
   "execution_count": 3,
   "metadata": {},
   "outputs": [
    {
     "name": "stdout",
     "output_type": "stream",
     "text": [
      "Polygon Object: Polygon(nedges=10, circumradius=16)\n",
      "Number of Edges: 10\n",
      "Vertices: 10\n",
      "Circumradius: 16\n",
      "Interior Angle: 144.0\n",
      "Edge Length: 9.888543819998317\n",
      "Apothem: 0.9510565162951535\n",
      "Area: 47.02282018339785\n",
      "Perimeter: 98.88543819998317\n"
     ]
    }
   ],
   "source": [
    "print('Polygon Object: %s' % mypoly)\n",
    "print('Number of Edges: %s' % mypoly.nedges)\n",
    "print('Vertices: %s' % mypoly.vertices)\n",
    "print('Circumradius: %s' % mypoly.circumradius)\n",
    "print('Interior Angle: %s' % mypoly.interior_angle)\n",
    "print('Edge Length: %s' % mypoly.edge_length)\n",
    "print('Apothem: %s' % mypoly.apothem)\n",
    "print('Area: %s' % mypoly.area)\n",
    "print('Perimeter: %s' % mypoly.perimeter)"
   ]
  },
  {
   "cell_type": "code",
   "execution_count": 4,
   "metadata": {},
   "outputs": [
    {
     "data": {
      "text/plain": [
       "True"
      ]
     },
     "execution_count": 4,
     "metadata": {},
     "output_type": "execute_result"
    }
   ],
   "source": [
    "mypoly.eq(mypoly)"
   ]
  },
  {
   "cell_type": "code",
   "execution_count": 5,
   "metadata": {},
   "outputs": [
    {
     "data": {
      "text/plain": [
       "False"
      ]
     },
     "execution_count": 5,
     "metadata": {},
     "output_type": "execute_result"
    }
   ],
   "source": [
    "other_poly = Polygon(5,2)\n",
    "other_poly.eq(mypoly)"
   ]
  },
  {
   "cell_type": "code",
   "execution_count": 6,
   "metadata": {},
   "outputs": [
    {
     "data": {
      "text/plain": [
       "False"
      ]
     },
     "execution_count": 6,
     "metadata": {},
     "output_type": "execute_result"
    }
   ],
   "source": [
    "similar_poly = Polygon(10,6)\n",
    "similar_poly.eq(mypoly)"
   ]
  },
  {
   "cell_type": "code",
   "execution_count": 7,
   "metadata": {},
   "outputs": [
    {
     "data": {
      "text/plain": [
       "True"
      ]
     },
     "execution_count": 7,
     "metadata": {},
     "output_type": "execute_result"
    }
   ],
   "source": [
    "same_poly = mypoly\n",
    "same_poly.eq(mypoly)"
   ]
  },
  {
   "cell_type": "code",
   "execution_count": 8,
   "metadata": {},
   "outputs": [
    {
     "data": {
      "text/plain": [
       "False"
      ]
     },
     "execution_count": 8,
     "metadata": {},
     "output_type": "execute_result"
    }
   ],
   "source": [
    "other_poly.gt(mypoly) #False"
   ]
  },
  {
   "cell_type": "code",
   "execution_count": 9,
   "metadata": {},
   "outputs": [
    {
     "data": {
      "text/plain": [
       "True"
      ]
     },
     "execution_count": 9,
     "metadata": {},
     "output_type": "execute_result"
    }
   ],
   "source": [
    "mypoly.gt(other_poly) #True"
   ]
  },
  {
   "cell_type": "markdown",
   "metadata": {},
   "source": [
    "## Polygon Sequence"
   ]
  },
  {
   "cell_type": "code",
   "execution_count": 10,
   "metadata": {},
   "outputs": [],
   "source": [
    "seq = Polygon_sequence(25,5)"
   ]
  },
  {
   "cell_type": "code",
   "execution_count": 11,
   "metadata": {},
   "outputs": [
    {
     "name": "stdout",
     "output_type": "stream",
     "text": [
      "Polygon(nedges=3, circumradius=5)\n",
      "Polygon(nedges=4, circumradius=5)\n",
      "Polygon(nedges=5, circumradius=5)\n",
      "Polygon(nedges=6, circumradius=5)\n",
      "Polygon(nedges=7, circumradius=5)\n",
      "Polygon(nedges=8, circumradius=5)\n",
      "Polygon(nedges=9, circumradius=5)\n",
      "Polygon(nedges=10, circumradius=5)\n",
      "Polygon(nedges=11, circumradius=5)\n",
      "Polygon(nedges=12, circumradius=5)\n",
      "Polygon(nedges=13, circumradius=5)\n",
      "Polygon(nedges=14, circumradius=5)\n",
      "Polygon(nedges=15, circumradius=5)\n",
      "Polygon(nedges=16, circumradius=5)\n",
      "Polygon(nedges=17, circumradius=5)\n",
      "Polygon(nedges=18, circumradius=5)\n",
      "Polygon(nedges=19, circumradius=5)\n",
      "Polygon(nedges=20, circumradius=5)\n",
      "Polygon(nedges=21, circumradius=5)\n",
      "Polygon(nedges=22, circumradius=5)\n",
      "Polygon(nedges=23, circumradius=5)\n",
      "Polygon(nedges=24, circumradius=5)\n",
      "Polygon(nedges=25, circumradius=5)\n"
     ]
    }
   ],
   "source": [
    "for poly in seq:\n",
    "    print(poly)"
   ]
  },
  {
   "cell_type": "code",
   "execution_count": 12,
   "metadata": {},
   "outputs": [
    {
     "data": {
      "text/plain": [
       "Polygon(nedges=25, circumradius=5)"
      ]
     },
     "execution_count": 12,
     "metadata": {},
     "output_type": "execute_result"
    }
   ],
   "source": [
    "seq.get_max_efficiency_polygon()"
   ]
  },
  {
   "cell_type": "code",
   "execution_count": null,
   "metadata": {},
   "outputs": [],
   "source": []
  }
 ],
 "metadata": {
  "kernelspec": {
   "display_name": "Python 3",
   "language": "python",
   "name": "python3"
  },
  "language_info": {
   "codemirror_mode": {
    "name": "ipython",
    "version": 3
   },
   "file_extension": ".py",
   "mimetype": "text/x-python",
   "name": "python",
   "nbconvert_exporter": "python",
   "pygments_lexer": "ipython3",
   "version": "3.8.5"
  }
 },
 "nbformat": 4,
 "nbformat_minor": 4
}
