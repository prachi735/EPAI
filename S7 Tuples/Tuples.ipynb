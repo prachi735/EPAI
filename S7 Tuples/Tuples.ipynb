{
 "cells": [
  {
   "cell_type": "code",
   "execution_count": 1,
   "metadata": {},
   "outputs": [],
   "source": [
    "%config IPCompleter.greedy=True"
   ]
  },
  {
   "cell_type": "code",
   "execution_count": 2,
   "metadata": {},
   "outputs": [],
   "source": [
    "import collections\n",
    "from datetime import date\n",
    "from dateutil.relativedelta import *\n",
    "from faker import Faker\n",
    "from collections import namedtuple, Counter\n",
    "from time import perf_counter\n",
    "from functools import wraps\n",
    "from random import shuffle, seed, randint, uniform, choice, sample\n",
    "from faker.providers.company import Provider"
   ]
  },
  {
   "cell_type": "code",
   "execution_count": 3,
   "metadata": {},
   "outputs": [],
   "source": [
    "Faker.seed(1)\n",
    "fake = Faker()"
   ]
  },
  {
   "cell_type": "code",
   "execution_count": 4,
   "metadata": {},
   "outputs": [],
   "source": [
    "def get_fake_profiles(type, count):\n",
    "    fake_profiles = []\n",
    "    if type == 'namedtuple':\n",
    "        profile = namedtuple('Profile', ['job', 'company', 'ssn', 'residence', 'current_location',\n",
    "                                         'blood_group', 'website', 'username', 'name', 'sex', 'address', 'mail', 'birthdate'])\n",
    "        for _ in range(count):\n",
    "            fake_profiles.append(profile(**fake.profile()))\n",
    "    elif type == 'dict':\n",
    "        for _ in range(count):\n",
    "            fake_profiles.append(fake.profile())\n",
    "    return fake_profiles\n",
    "\n",
    "\n",
    "def get_largest_blood_group(collection, type):\n",
    "    bg_counts = None\n",
    "    if type == 'namedtuple':\n",
    "        bg_counts = Counter(p.blood_group for p in collection)\n",
    "    elif type == 'dict':\n",
    "        bg_counts = Counter(p['blood_group'] for p in collection)\n",
    "    return bg_counts.most_common()[0]\n",
    "\n",
    "\n",
    "def get_oldest_birthdate(collection, type):\n",
    "    oldest_birthdate = None\n",
    "    if type == 'namedtuple':\n",
    "        oldest_birthdate = min(\n",
    "            collection, key=lambda a: a.birthdate).birthdate\n",
    "    elif type == 'dict':\n",
    "        oldest_birthdate = min(\n",
    "            collection, key=lambda a: a['birthdate'])['birthdate']\n",
    "    return oldest_birthdate\n",
    "\n",
    "\n",
    "def get_average_age(collection, type):\n",
    "    if type == 'namedtuple':\n",
    "        return sum([relativedelta(date.today(), a.birthdate).years for a in collection])/len(collection)\n",
    "    elif type == 'dict':\n",
    "        return sum([relativedelta(date.today(), a['birthdate']).years for a in collection])/len(collection)"
   ]
  },
  {
   "cell_type": "code",
   "execution_count": 5,
   "metadata": {},
   "outputs": [],
   "source": [
    "NO_OF_PROFILES = 10000\n",
    "fake_profiles = get_fake_profiles('namedtuple', NO_OF_PROFILES)\n",
    "fake_profiles_dict = get_fake_profiles('dict', NO_OF_PROFILES)"
   ]
  },
  {
   "cell_type": "code",
   "execution_count": 6,
   "metadata": {},
   "outputs": [
    {
     "name": "stdout",
     "output_type": "stream",
     "text": [
      "testing: get_largest_blood_group\n",
      "dict is faster\n",
      "testing: get_oldest_birthdate\n",
      "dict is faster\n",
      "testing: get_average_age\n",
      "named tuple is faster\n"
     ]
    }
   ],
   "source": [
    "def get_average_time(n, func, *args, **kwargs):\n",
    "    start = perf_counter()\n",
    "    for _ in range(n):\n",
    "        value = func(*args, **kwargs)\n",
    "    avg_run_time = (perf_counter() - start)/n\n",
    "    return avg_run_time\n",
    "\n",
    "\n",
    "N = 1000\n",
    "for f in [get_largest_blood_group, get_oldest_birthdate, get_average_age]:\n",
    "    print('testing:', f.__name__)\n",
    "    t1 = get_average_time(N, f, fake_profiles, 'namedtuple')\n",
    "    t2 = get_average_time(N, f, fake_profiles_dict, 'dict')\n",
    "\n",
    "    if t1 < t2:\n",
    "        print('dict is faster')\n",
    "    else:\n",
    "        print('named tuple is faster')"
   ]
  },
  {
   "cell_type": "code",
   "execution_count": 7,
   "metadata": {},
   "outputs": [],
   "source": [
    "company_stck = namedtuple('Company', ['name', 'symbol', 'open', 'high', 'low', 'close','weight'])"
   ]
  },
  {
   "cell_type": "code",
   "execution_count": 8,
   "metadata": {},
   "outputs": [],
   "source": [
    "def get_company_stock(volatility,direction):              \n",
    "    name = fake.unique.company()\n",
    "    symbol = name[0:3].upper()+name[-3:].upper()\n",
    "    open = round( uniform(10,1000),2)\n",
    "    if direction == '-ve':\n",
    "        volatility *= -1\n",
    "    close =  round(open + (open * volatility * 0.2),2)\n",
    "    high = close = round(open + (open * volatility * 0.5),2)\n",
    "    low = close = round(open - (open * volatility * 0.5),2)\n",
    "    return name, symbol, open, high,low, close"
   ]
  },
  {
   "cell_type": "code",
   "execution_count": 9,
   "metadata": {},
   "outputs": [
    {
     "ename": "NameError",
     "evalue": "name 'weights' is not defined",
     "output_type": "error",
     "traceback": [
      "\u001b[1;31m---------------------------------------------------------------------------\u001b[0m",
      "\u001b[1;31mNameError\u001b[0m                                 Traceback (most recent call last)",
      "\u001b[1;32m<ipython-input-9-df722763b2c5>\u001b[0m in \u001b[0;36m<module>\u001b[1;34m\u001b[0m\n\u001b[1;32m----> 1\u001b[1;33m \u001b[0mstock_list\u001b[0m \u001b[1;33m=\u001b[0m \u001b[1;33m[\u001b[0m\u001b[0mcompany_stck\u001b[0m\u001b[1;33m(\u001b[0m\u001b[1;33m*\u001b[0m\u001b[0mget_company_stock\u001b[0m\u001b[1;33m(\u001b[0m\u001b[0mvolatility\u001b[0m \u001b[1;33m=\u001b[0m \u001b[0muniform\u001b[0m\u001b[1;33m(\u001b[0m\u001b[1;36m.2\u001b[0m\u001b[1;33m,\u001b[0m \u001b[1;36m.02\u001b[0m\u001b[1;33m)\u001b[0m\u001b[1;33m,\u001b[0m\u001b[0mdirection\u001b[0m\u001b[1;33m=\u001b[0m\u001b[0mchoice\u001b[0m\u001b[1;33m(\u001b[0m\u001b[1;33m[\u001b[0m\u001b[1;34m'+ve'\u001b[0m\u001b[1;33m,\u001b[0m\u001b[1;34m'-ve'\u001b[0m\u001b[1;33m]\u001b[0m\u001b[1;33m)\u001b[0m\u001b[1;33m)\u001b[0m\u001b[1;33m,\u001b[0m\u001b[0mw\u001b[0m\u001b[1;33m)\u001b[0m \u001b[1;32mfor\u001b[0m \u001b[0mw\u001b[0m \u001b[1;32min\u001b[0m \u001b[0mweights\u001b[0m\u001b[1;33m]\u001b[0m\u001b[1;33m\u001b[0m\u001b[1;33m\u001b[0m\u001b[0m\n\u001b[0m",
      "\u001b[1;31mNameError\u001b[0m: name 'weights' is not defined"
     ]
    }
   ],
   "source": [
    "stock_list = [company_stck(*get_company_stock(volatility = uniform(.02, .2),direction=choice(['+ve','-ve'])),w) for w in weights]\n"
   ]
  },
  {
   "cell_type": "code",
   "execution_count": null,
   "metadata": {},
   "outputs": [],
   "source": [
    "stock_list"
   ]
  },
  {
   "cell_type": "code",
   "execution_count": null,
   "metadata": {},
   "outputs": [],
   "source": [
    "stock_list.sort(key = lambda a: a.weight)"
   ]
  },
  {
   "cell_type": "code",
   "execution_count": null,
   "metadata": {},
   "outputs": [],
   "source": [
    "stock_market_open = sum([a.open for a in stock_list])\n",
    "stock_market_high = sum([a.high for a in stock_list])\n",
    "stock_market_close = sum([a.close for a in stock_list])"
   ]
  },
  {
   "cell_type": "code",
   "execution_count": null,
   "metadata": {},
   "outputs": [],
   "source": [
    "print('stock market opened at:',stock_market_open)\n",
    "print('stock market highest value was:',stock_market_high)\n",
    "print('stock market closed at:',stock_market_close)"
   ]
  },
  {
   "cell_type": "code",
   "execution_count": null,
   "metadata": {},
   "outputs": [],
   "source": []
  }
 ],
 "metadata": {
  "kernelspec": {
   "display_name": "Python 3",
   "language": "python",
   "name": "python3"
  },
  "language_info": {
   "codemirror_mode": {
    "name": "ipython",
    "version": 3
   },
   "file_extension": ".py",
   "mimetype": "text/x-python",
   "name": "python",
   "nbconvert_exporter": "python",
   "pygments_lexer": "ipython3",
   "version": "3.8.5"
  }
 },
 "nbformat": 4,
 "nbformat_minor": 4
}
